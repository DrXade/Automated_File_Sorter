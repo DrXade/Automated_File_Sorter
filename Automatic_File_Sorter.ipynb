{
 "cells": [
  {
   "cell_type": "code",
   "execution_count": 1,
   "id": "cc7439d4-26ec-4bda-aa0f-5802751fb48e",
   "metadata": {},
   "outputs": [],
   "source": [
    "import os,shutil"
   ]
  },
  {
   "cell_type": "code",
   "execution_count": 17,
   "id": "dd51f9f0-619c-4216-91ff-83a54092aa61",
   "metadata": {},
   "outputs": [],
   "source": [
    "path = r\"C:/Users/User/Desktop/File Sorting Automation Phyton/\""
   ]
  },
  {
   "cell_type": "code",
   "execution_count": 25,
   "id": "59010df9-6597-465b-a9a5-6be9c0b0abdf",
   "metadata": {},
   "outputs": [],
   "source": [
    "file_name = os.listdir(path)"
   ]
  },
  {
   "cell_type": "code",
   "execution_count": 31,
   "id": "c7e5555e-907b-4de1-8f7a-530d535ed248",
   "metadata": {},
   "outputs": [],
   "source": [
    "folder_names = [\"CSV Files\", \"Image Files\", \"Text Files\",\"Word Files\", \"PDF Files\",\"Excel Files\"]\n",
    "\n",
    "for i in range(len(folder_names)):\n",
    "    if not os.path.exists(path + folder_names[i]):\n",
    "        os.makedirs(path + folder_names[i])"
   ]
  },
  {
   "cell_type": "code",
   "execution_count": 43,
   "id": "843e76d4-c792-4173-951a-fe0423c2ad28",
   "metadata": {},
   "outputs": [],
   "source": [
    "for file in file_name:\n",
    "    if \".csv\" in file and not os.path.exists(path + \"CSV Files/\" + file):\n",
    "        shutil.move(path + file, path + \"CSV Files/\" + file)\n",
    "    elif \".xlsx\" in file and not os.path.exists(path + \"Excel Files/\" + file):\n",
    "        shutil.move(path + file, path + \"Excel Files/\" + file)\n",
    "    elif \".jpg\" in file and not os.path.exists(path + \"Image Files/\" + file):\n",
    "        shutil.move(path + file, path + \"Image Files/\" + file)\n",
    "    elif \".pdf\" in file and not os.path.exists(path + \"PDF Files/\" + file):\n",
    "        shutil.move(path + file, path + \"PDF Files/\" + file)\n",
    "    elif \".txt\" in file and not os.path.exists(path + \"Text Files/\" + file):\n",
    "        shutil.move(path + file, path + \"Text Files/\" + file)\n",
    "    elif \".docx\" in file and not os.path.exists(path + \"Word Files/\" + file):\n",
    "        shutil.move(path + file, path + \"Word Files/\" + file)\n",
    "    #else:\n",
    "        #print (\"There were files that remained in the original folder\")"
   ]
  },
  {
   "cell_type": "code",
   "execution_count": null,
   "id": "6011b698-045f-4a2a-85f7-6bf07b33feab",
   "metadata": {},
   "outputs": [],
   "source": []
  },
  {
   "cell_type": "code",
   "execution_count": null,
   "id": "5012e63c-757b-4a4f-8932-e677035df452",
   "metadata": {},
   "outputs": [],
   "source": []
  },
  {
   "cell_type": "code",
   "execution_count": null,
   "id": "73cb9320-b12f-467b-a396-9283ec731999",
   "metadata": {},
   "outputs": [],
   "source": []
  },
  {
   "cell_type": "code",
   "execution_count": null,
   "id": "0935f034-40d4-4025-8c14-b841b11cab50",
   "metadata": {},
   "outputs": [],
   "source": []
  },
  {
   "cell_type": "code",
   "execution_count": null,
   "id": "876722cb-cac7-4b8f-b5b0-19e06f08536a",
   "metadata": {},
   "outputs": [],
   "source": []
  }
 ],
 "metadata": {
  "kernelspec": {
   "display_name": "Python 3 (ipykernel)",
   "language": "python",
   "name": "python3"
  },
  "language_info": {
   "codemirror_mode": {
    "name": "ipython",
    "version": 3
   },
   "file_extension": ".py",
   "mimetype": "text/x-python",
   "name": "python",
   "nbconvert_exporter": "python",
   "pygments_lexer": "ipython3",
   "version": "3.12.4"
  }
 },
 "nbformat": 4,
 "nbformat_minor": 5
}
